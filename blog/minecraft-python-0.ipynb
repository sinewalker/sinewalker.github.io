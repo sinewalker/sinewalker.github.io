{
 "metadata": {
  "name": "",
  "signature": "sha256:86364aee54090cd75d639325a0400916f0ed1c5a37ad82657006ab7bc9888ec3"
 },
 "nbformat": 3,
 "nbformat_minor": 0,
 "worksheets": [
  {
   "cells": [
    {
     "cell_type": "markdown",
     "metadata": {},
     "source": [
      "I'm having a play with **Minecraft** and **Python**, using the ***mcpipy*** library, a Minecraft server called **CannaryMod**, and a plugin-in for that called **RaspberryJuice**.\n",
      "\n",
      "You can do all this out-of-the-box with Raspbian on a RaspberryPi, but I wanted to set up my home computers also.  Here's a quick run-down of the steps I followed."
     ]
    },
    {
     "cell_type": "markdown",
     "metadata": {},
     "source": [
      "<!-- TEASER_END -->"
     ]
    },
    {
     "cell_type": "markdown",
     "metadata": {},
     "source": [
      "Install the software\n",
      "----\n",
      "\n",
      "First you need a copy of the [Minecraft](https://minecraft.net)\n",
      "game. You can [get it for free](https://minecraft.net/download), but you will need to license a Player with Mojang, which is (US)$30 per player.  I one with our eldest son.  Our player name is \"devilcraft74\".\n",
      "\n",
      "You'll also need [CanaryMod](http://canarymod.net/) and a plugin for it called [RaspberryJuice](https://github.com/martinohanlon/canaryraspberryjuice). The creator of RaspberryJuice, Martin O'Hanlan, has an [excellent blog](http://www.stuffaboutcode.com), and his [instructions for installing all of this and setting it up](http://www.stuffaboutcode.com/2014/10/minecraft-raspberryjuice-and-canarymod.html) are clear and easy to follow.  Start there.\n",
      "\n",
      "Finally, you'll want a copy of [mcpipy](https://github.com/brooksc/mcpipy) which is the Python bindings and some sample code for\n",
      "[Minecraft Pi edition](http://pi.minecraft.net/). For older hackers, this is where the *real* fun begins.\n",
      "\n",
      "Configure your World\n",
      "----\n",
      "\n",
      "CanaryMod's main purpose seems to be as a server for running Minecraft MMOGs. It has a [sophisticated Permissions system](http://canarymod.net/books/canarymod-admin-guide/permissions-and-groups) and [modular configuration files](http://canarymod.net/books/canarymod-admin-guide/setting-your-server).  After you unpack it and accept the EULA (by modifying `eula.txt`), you will have a tightly locked-down Minecraft server that needs some changes to be useful for hacking with Python.\n",
      "\n",
      "The documentation is good, so far as it goes, but it seems to still be under construction.  Anyway, the configuration files are well commented, so it's simple to work out what to change just by reading them.\n",
      "\n",
      "I will configure my world for hacking with Python.  I want to play in Creative Mode (so I can fly, and so that there is no interference with my hacking by the mechanics of the Survival game) and also I want to be able to build with the player as well as through Python.\n",
      "\n",
      "**First, set to Creative mode**. I'm setting the default `gamemode` for the world from it's configuration file (a file inside the CanaryMod directory called `config/worlds/default/default_NORMAL.conf`):\n",
      "\n",
      "```\n",
      "gamemode=1\n",
      "```\n",
      "\n",
      "Now, whenever a player joins my server and enters the default world, they will be in Creative mode rather than Survival.\n",
      "\n",
      "**Second, grant permission to build**.  Once the server starts, you can enter this command at the server console (you only need to do it once):\n",
      "\n",
      "```\n",
      "/playermod group set devilcraft74 admins\n",
      "```\n",
      "(substitute your own player name for *devilcraft74*)\n",
      "\n",
      "Yep, I am now root in the world.  I realise that there is a much more surgical way to allow players to build in the world:\n",
      "\n",
      "```\n",
      "/groupmod permission add visitors canary.world.build\n",
      "```\n",
      "\n",
      "This adds `canary.world.build` permission to the `visitors` group (of which all players are members when they join the server).  But this isn't working for me.  I'm unsure why exactly, and I'm *fairly* sure I've spelt it right. I can't find what all the default permissions are to check that though (again, documentation seems unfinished). So for now at least, I'll just add my player to the `admins` group, which I note from the world config file has a `path` of `'*'` and I take that to mean \"allow All The Things!\". For hacking in my own minecraft server, which I don't intend to be a MMOG on the Internet,this is fine.\n",
      "\n",
      "Connect and hack away!\n",
      "----\n",
      "\n",
      "We're ready to hack Minecraft worlds!  A basic startup sequence is to launch CanaryMod, then start Minecraft and connect to `localhost` from the **Multiplayer** menu option. I'll assume you know how to play Minecraft enough to look and move around, as well as build stuff and look for Block types in your Inventory&hellip;.\n",
      "\n",
      "Once Minecraft's running and connected to your CanaryMod server, then from a Python REPL, this incantation will get Python connected  as well (assuming mcpipy is in your Python library path, or is a subdirectory of the current directory when you run it):"
     ]
    },
    {
     "cell_type": "code",
     "collapsed": false,
     "input": [
      "import mcpi.minecraft as minecraft\n",
      "mc = minecraft.Minecraft.create()"
     ],
     "language": "python",
     "metadata": {},
     "outputs": [],
     "prompt_number": 3
    },
    {
     "cell_type": "markdown",
     "metadata": {},
     "source": [
      "You will see a message in the CanaryMod console, confirming a new connection has been made:\n",
      "\n",
      "```\n",
      "[13:39:34] [CanaryRaspberryJuicePlugin] [INFO]: Starting input thread\n",
      "[13:39:34] [CanaryRaspberryJuicePlugin] [INFO]: Starting output thread\n",
      "[13:39:34] [CanaryRaspberryJuicePlugin] [INFO]: Opened connection to/127.0.0.1:41722.\n",
      "```\n",
      "\n",
      "Were in!\n",
      "\n",
      "Operations on the Minecraft world are done by sending messages to the *Minecraft* object, an instance of which we just declared as `mc`.\n",
      "\n",
      "Let's try something simple:"
     ]
    },
    {
     "cell_type": "code",
     "collapsed": false,
     "input": [
      "tintable_glass = 95\n",
      "red = 14\n",
      "blue = 11\n",
      "mc.setBlocks(1,0,0, 16,3,0, tintable_glass,red)\n",
      "mc.setBlocks(0,0,1, 0,3,16, tintable_glass,blue)\n",
      "\n",
      "for z in range(16):\n",
      "    mc.setBlocks(0,z,0, 3,z,3, tintable_glass,z)"
     ],
     "language": "python",
     "metadata": {},
     "outputs": [],
     "prompt_number": 8
    },
    {
     "cell_type": "markdown",
     "metadata": {},
     "source": [
      "This makes a short axis out of glass blocks, starting at the world's Origin, with a red wall 4 blocks high along the *X* axis, a blue wall along the *Y* axis, and a 4x4x16 tower of glass up the *Z* axis. Each layer of the tower is a different colour from 0 (white) to 15 (black)."
     ]
    },
    {
     "cell_type": "markdown",
     "metadata": {},
     "source": [
      "<img src=\"/pixels/minecraft/mcpi-20150531.png\">"
     ]
    },
    {
     "cell_type": "markdown",
     "metadata": {},
     "source": [
      "Parts of this construction may be below the ground, because when the world is generated it has some topography, but you should be able to dig down to `0,0,0` and see all the colours of the tower. You can also dig into negative *Z* space, as well as move in negative *X* and *Y* dimensions.\n",
      "\n",
      "Note that in Minecraft, not all Block types can be tinted using the 8th argument to `setBlocks` in this fashion, but Block 95 is one type that can be. Wool is another.\n",
      "\n",
      "There's a list of known Block numbers in the `mcpypi` library (`block.py`), but it has gaps, one of them being 95... I found *that*\n",
      "number by manually setting a block at 0,0,0 to Red Tinted Glass (from in-game, once my tower was built &mdash; using Stone &mdash; so that I knew where to find `0,0,0`), and then learning it's number using:"
     ]
    },
    {
     "cell_type": "code",
     "collapsed": false,
     "input": [
      "print mc.getBlockWithData(0,0,0)"
     ],
     "language": "python",
     "metadata": {},
     "outputs": [
      {
       "output_type": "stream",
       "stream": "stdout",
       "text": [
        "Block(95, 0)\n"
       ]
      }
     ],
     "prompt_number": 10
    },
    {
     "cell_type": "markdown",
     "metadata": {},
     "source": [
      "Similarly, I figured out that Red is 14 and Blue is 11 just by looking at my tower of colour and counting up from the bottom."
     ]
    },
    {
     "cell_type": "markdown",
     "metadata": {},
     "source": [
      "\n",
      "Time to explore\n",
      "----\n",
      "\n",
      "So, there you have it. We're all set to go exploring. Have a read of the [Stuff About Code](http://stuffaboutcode.com) web site, it's got lots of fun looking stuff, starting with Turtle graphics and leading on to 2D and 3D primitives made from Blocks. Super stuff, I can see my kids are going to be really motivated to learn about Cartesian geometry, trigonometry and some other Math's subjects, and maybe evenprogramming!\n",
      "\n",
      "Happy Hacking!"
     ]
    }
   ],
   "metadata": {}
  }
 ]
}