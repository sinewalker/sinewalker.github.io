{
 "cells": [
  {
   "cell_type": "markdown",
   "metadata": {},
   "source": [
    "# Minecraft Jammin\n",
    "\n",
    "A bit over two years ago I wrote [a post about hacking minecraft with Python](/blog/2015/minecraft-python-0.html). During my holiday break this year I decided to revisit this, and have a bit more of a go with it.  Some things have changed, including the Minecraft Buckit Server that I used then (Canarymod) being abandoned, and some new enhanced modules that let you run Minecraft PI Python code on a non-PI machine, with Python 3!  So let's dig in.\n",
    "\n",
    "----\n",
    "<!-- TEASER_END -->"
   ]
  },
  {
   "cell_type": "markdown",
   "metadata": {},
   "source": [
    "## Connecting to Minecraft from Python\n",
    "\n",
    "The [Minecraft PI Edition](https://www.raspberrypi.org/documentation/usage/minecraft/README.md) included with the [Raspbian OS](https://www.raspbian.org/) for [Raspberry Pi](https://www.raspberrypi.org) may be accessed by an [Application Programming Interface](https://en.wikipedia.org/wiki/Application_programming_interface) (API). The API is a collection of well defined methods for a computer Application to doing some things in Minecraft, and it was written by Mojang (Minecraft's creators) especially for the PI Edition of the game, to be an Interface for Java and Python programs.\n",
    "\n",
    "The API uses a computer [protocol](/jargon/html/P/protocol.html) to connect to a Minecraft game \"server\" and then sends messages to it. The protocol is described in the file `mcpi_protocol_spec.txt` included with the MCPI download when you install it per the Raspberry Pi instructions, or the excellent tutorials and guides at [Stuff about code](http://www.stuffaboutcode.com/p/minecraft.html).  I've also placed [a copy on my web site]() for easy finding.\n",
    "\n",
    "\n",
    "\n"
   ]
  }
 ],
 "metadata": {
  "kernelspec": {
   "display_name": "Python 3",
   "language": "python",
   "name": "python3"
  },
  "language_info": {
   "codemirror_mode": {
    "name": "ipython",
    "version": 3
   },
   "file_extension": ".py",
   "mimetype": "text/x-python",
   "name": "python",
   "nbconvert_exporter": "python",
   "pygments_lexer": "ipython3",
   "version": "3.6.0"
  },
  "nikola": {
   "category": "",
   "date": "2018-02-05 11:18:42 UTC+11:00",
   "description": "",
   "link": "",
   "slug": "minecraft-python-1",
   "tags": "draft minecraft, python, getkidscoding, kids",
   "title": "Minecraft Jamin'",
   "type": "text"
  }
 },
 "nbformat": 4,
 "nbformat_minor": 2
}
