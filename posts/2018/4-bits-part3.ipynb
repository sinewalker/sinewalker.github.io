{
 "cells": [
  {
   "cell_type": "markdown",
   "metadata": {},
   "source": [
    "Here is the forth part of my [blog series](/tags/4-bit-rules.html) expanding on my\n",
    "[4-bit rules of computing](/pg/4-bit-rules.html).\n",
    "\n",
    ">[Previously](/blog/2015/4-bit-rules-of-computing-part-2.html) in *Milosophical Me*: Mike was reflecting on Comments, both in source code and in social media, and had come to the conclusion that they are to be avoided, that they can be more harmful than helpful, and that source codes (and people) should be allowed to speak for them selves.\n",
    "\n",
    "There is an exception to Rule 5 (*Rule 0* allows for this): **doc-comments**.   Let's explore what they are, how they differ from regular comments, and how to use them to assist your fellow hackers.\n",
    "\n",
    "<!-- TEASER_END -->"
   ]
  },
  {
   "cell_type": "markdown",
   "metadata": {},
   "source": [
    "----\n",
    "\n",
    "# **Rule 6**: Doc-comments are a Force for Good\n",
    "(follows on from Rule 5 *Comments considered harmful*)\n",
    "\n",
    "\n",
    ">You are in a maze of twisty little passages, all alike\n",
    "\n",
    "Sometimes exploring code is like a text-adventure game.  The modules are like different rooms containing strange objects and it's not immediately clear what you should be doing next, or how to use the objects.\n",
    "\n",
    "In a text-adventure game, you need to `LOOK` at your surroundings to get you bearings and see what objects are around; `TAKE` objects and even `EXAMINE` them once they're in your hands to uncover their secrets.  Only then will you discover that the sword you just took has a magical enscryption on it, for instance.\n",
    "\n",
    "If the code you're exploring has *doc-comments*, then you can do the same thing: you can *look* at the module's description and an overview of classes and methods; or get the coding system to *describe* an object's properties and methods, how they should be called, what behavior to expect.\n",
    "\n",
    "Most languages that have this facility call it [Docstrings](https://en.wikipedia.org/wiki/Docstring), which is the name LISP gave them, and (I think) where it originated.  I'm calling them \"*doc-comments*\" for two reasons:\n",
    "\n",
    " 1. Java doesn't have docstrings, but instead has special *documentation comments*\n",
    " 2. (More important) it balances Rule 5's caution against using comments at all\n",
    "\n",
    "## What is a doc-comment?\n",
    "\n",
    "Like regular comments, you use these to describe the code in a natural human language, let's say English (*Solo sé un poco de Español*).  Where doc-comments are different is, they have special features that are designed to be parsed by development tools to assist programmers directly, not just to be read by human eyes and ignored by compilers or interpreters.\n",
    "\n",
    "Let's see how doc-comments address the problems I outlined with regular comments:\n",
    "\n",
    "1. *Code is the single authoritative source of truth in a program!*  \n",
    "\n",
    "    Doc-comments include supplemental information on the object being documented which, while not needed or used by a compiler or interpreter, are for tools that inspect code and help you to write it.\n",
    "\n",
    "      * add signposts for code-completion tools\n",
    "      * provide the description text for pop-up tool-tips, or to generate documentation\n",
    "      * specify expected values for parameters, not just the data type\n",
    "\n",
    "1. *There is no way to ensure that code comments are correct at all\n",
    "  times (they're not always updated with code changes, and they can't\n",
    "  be covered by unit tests)*\n",
    "  \n",
    "    Some doc-comments can include unit test cases, ensuring that they must agree with the code they describe, or else the tests fail. By being in-line with the code they test, this increases the likely hood that both the code and the doc-comment will be updated together, especially if you follow some of the practices of Test-Driven Development.\n",
    "\n",
    "    Other doc-comment systems have a feature similar to Java's *decoractors* which will automatically build \"boilerplate\" code such as Object-Oriented \"getters\" and \"setters\". All you have to do is decorate the object members that should be accessed in that way. This is in addition to pointing out to any human reader that such a member is meant to be accessed only through it's get/set methods.\n",
    "\n",
    "1. Comments are written in human language which can be prone to\n",
    "  misinterpretation\n",
    "  \n",
    "    This is still true of doc-comments.  Having a structure to the comment may reduce this risk, but not eliminate it.\n",
    "\n",
    "1. Comments embedded in code *can actually be harmful* when doing\n",
    "  polyglot meta-programming\n",
    "\n",
    "    Doc-comments are not syntactictly able to be embedded within the code like a regular comment can be (to mark out a suspicious section while debugging). They are usually strings, and have a special location within the code that must be adhered to (usually the beginning of a function or module), otherwise it's not a doc-comment.\n",
    "  \n",
    "\n",
    "## How do you use them\n",
    "\n",
    "Doc-comments can be used in different ways, depending how the language designers built them.\n",
    "\n",
    "### javadoc: Inside-out Litterate Programming\n",
    "\n",
    "In Java, the doc-comments' main purpose is to be the source-code for API documentation.  The goal is to be able to generate an API reference from the same code that implements the API.  It's mostly successful.  This is not strictly *Litterate Programming* because it doesn't weave instructive narative with the code, but it does at least formalise the system of commenting that I was taught in high-school:\n",
    "\n",
    "```java\n",
    "/**\n",
    " * Returns an Image object that can then be painted on the screen. \n",
    " * The url argument must specify an absolute {@link URL}. The name\n",
    " * argument is a specifier that is relative to the url argument. \n",
    " * <p>\n",
    " * This method always returns immediately, whether or not the \n",
    " * image exists. When this applet attempts to draw the image on\n",
    " * the screen, the data will be loaded. The graphics primitives \n",
    " * that draw the image will incrementally paint on the screen. \n",
    " *\n",
    " * @param  url  an absolute URL giving the base location of the image\n",
    " * @param  name the location of the image, relative to the url argument\n",
    " * @return      the image at the specified URL\n",
    " * @see         Image\n",
    " */\n",
    " public Image getImage(URL url, String name) {\n",
    "        try {\n",
    "            return getImage(new URL(url, name));\n",
    "        } catch (MalformedURLException e) {\n",
    "            return null;\n",
    "        }\n",
    " }\n",
    "```\n",
    "\n",
    "Here, the tags `@param` and `@return` are like the old *Structured Programming*-style \"Pre-condition\"/\"Post-condition\" comments that I would put in my Pascal school assignments.  This example comes from [Oracle's Javadoc style guide](http://www.oracle.com/technetwork/java/javase/tech/index-137868.html). It also shows an embedded HTML `<p>` tag which the `javadoc` tool can use when generating an HTML API document.\n",
    "\n",
    "I call this \"inside-out\" Litterate Programming because, rather than have an English narative with code dispursed through it like the WEB system of *TeX*, or Jupyter Notebooks; *javadoc* is more about havinging a code library with English dispursed through it. The focus of Litterate Programming is on the humans reading the document, and you \"weave\" the document to generate the code from it; whereas in javadoc the focus is on the computer as the audience of the code, and you use the `javadoc` tool to generate the document (so it's like \"tangling\").\n",
    "\n",
    "### iPython and emacs environments: explore the environment interactively\n",
    "\n",
    "(These are just examples; there are other systems that do this too, like R and Mathematica. I'm not trying to have an exhaustive comparison here, it's not the point I'm making.)\n",
    "\n",
    "```elisp\n",
    "```\n",
    "\n",
    "\n",
    "\n"
   ]
  },
  {
   "cell_type": "markdown",
   "metadata": {},
   "source": [
    "#### screenshot of emacs"
   ]
  },
  {
   "cell_type": "markdown",
   "metadata": {},
   "source": [
    "iPython has an online inspection system that is driven by Python docstrings."
   ]
  },
  {
   "cell_type": "code",
   "execution_count": null,
   "metadata": {
    "collapsed": true
   },
   "outputs": [],
   "source": []
  },
  {
   "cell_type": "code",
   "execution_count": 1,
   "metadata": {},
   "outputs": [
    {
     "data": {
      "text/plain": [
       "['/Users/mjl/lib/nikola/lib/python3.6/site-packages/ipykernel_launcher.py',\n",
       " '-f',\n",
       " '/Users/mjl/Library/Jupyter/runtime/kernel-92c61386-92cf-4963-bc9a-d958c4deb996.json']"
      ]
     },
     "execution_count": 1,
     "metadata": {},
     "output_type": "execute_result"
    }
   ],
   "source": [
    "import sys\n",
    "sys.argv?\n",
    "sys.argv"
   ]
  },
  {
   "cell_type": "markdown",
   "metadata": {},
   "source": [
    "#### screenshot of jupyter - sys.argv help"
   ]
  },
  {
   "cell_type": "markdown",
   "metadata": {},
   "source": [
    "That particular doc-comment explains that `sys.argv` is a `List` of `String` objects, and shows its values and the `List`'s methods which `sys.arg` has. It's not particuarly helpful to show what it *means* though.  Perhaps the module's documentation is more helpful?"
   ]
  },
  {
   "cell_type": "code",
   "execution_count": 2,
   "metadata": {
    "collapsed": true
   },
   "outputs": [],
   "source": [
    "sys?"
   ]
  },
  {
   "cell_type": "markdown",
   "metadata": {},
   "source": [
    "#### screenshot of jupyter - sys help"
   ]
  },
  {
   "cell_type": "markdown",
   "metadata": {},
   "source": [
    "Yes,now we can see what it means: command line arguments, and the first element of the List is the pathname to the python script that is running.\n",
    "\n",
    "It's just like an adventure game."
   ]
  },
  {
   "cell_type": "markdown",
   "metadata": {},
   "source": [
    "### Doc-comments for assistive technology\n",
    "\n",
    "There are others, list them, vscode settings and screenshot\n",
    "\n",
    "\n",
    "## Wait, did you say you can test doc-comments?\n",
    "\n",
    "Python's [doctest](https://pymotw.com/2/doctest/) module (Python Module of the Month, covers Python2; or see [Python  3 documentation (https://docs.python.org/3/library/doctest.html#module-doctest)) provides a way to include your module's test cases within the code. This is a super facility that is well worth your time exploring.  See my Rule 7.\n",
    "\n",
    "\n",
    "## Regular strings as doc-comments\n",
    "\n",
    "I have rolled my own doc-comments system in at least one language that doesn't have them:  Bash.  Here is how it works."
   ]
  }
 ],
 "metadata": {
  "kernelspec": {
   "display_name": "Python 3",
   "language": "python",
   "name": "python3"
  },
  "language_info": {
   "codemirror_mode": {
    "name": "ipython",
    "version": 3
   },
   "file_extension": ".py",
   "mimetype": "text/x-python",
   "name": "python",
   "nbconvert_exporter": "python",
   "pygments_lexer": "ipython3",
   "version": "3.6.0"
  }
 },
 "nbformat": 4,
 "nbformat_minor": 2
}
